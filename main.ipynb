{
 "cells": [
  {
   "cell_type": "code",
   "execution_count": 1,
   "id": "07d2c48b",
   "metadata": {},
   "outputs": [
    {
     "name": "stdout",
     "output_type": "stream",
     "text": [
      "Usage\n",
      "\n",
      "  cmake [options] <path-to-source>\n",
      "  cmake [options] <path-to-existing-build>\n",
      "  cmake [options] -S <path-to-source> -B <path-to-build>\n",
      "\n",
      "Specify a source directory to (re-)generate a build system for it in the\n",
      "current working directory.  Specify an existing build directory to\n",
      "re-generate its build system.\n",
      "\n",
      "Run 'cmake --help' for more information.\n",
      "\n"
     ]
    }
   ],
   "source": []
  },
  {
   "cell_type": "code",
   "execution_count": 5,
   "id": "80468324",
   "metadata": {},
   "outputs": [],
   "source": [
    "# !pip install openai\n",
    "# !pip install gradio typing-extensions\n",
    "# !pip install pyopenjtalk"
   ]
  },
  {
   "cell_type": "code",
   "execution_count": 13,
   "id": "ed7dd6c0",
   "metadata": {},
   "outputs": [
    {
     "name": "stdout",
     "output_type": "stream",
     "text": [
      "HE\n",
      "CMake is in the system path. Version: cmake version 3.27.3\n",
      "\n",
      "CMake suite maintained and supported by Kitware (kitware.com/cmake).\n"
     ]
    }
   ],
   "source": []
  },
  {
   "cell_type": "code",
   "execution_count": 29,
   "id": "038b258a",
   "metadata": {},
   "outputs": [],
   "source": [
    "import os\n",
    "import openai \n",
    "import gradio as gr\n",
    "\n",
    "\n",
    "import json \n",
    "from tqdm import tqdm \n",
    "import time\n",
    "from datetime import datetime\n",
    "\n",
    "import concurrent.futures\n",
    "\n",
    "\n",
    "# from newsplease import NewsPlease\n",
    "from pathlib import Path"
   ]
  },
  {
   "cell_type": "code",
   "execution_count": 30,
   "id": "3d201bff",
   "metadata": {},
   "outputs": [],
   "source": [
    "openai_secret = None\n",
    "with open(\"../openai_chat_secret.txt\", 'r') as f1:\n",
    "    openai_secret = f1.read()\n",
    "openai.api_key = openai_secret"
   ]
  },
  {
   "cell_type": "code",
   "execution_count": 35,
   "id": "1faaa7b1",
   "metadata": {},
   "outputs": [],
   "source": [
    "AI_CHARACTER_NAME = \"Shiori\"\n",
    "USER_NAME = \"Tangerine\""
   ]
  },
  {
   "cell_type": "code",
   "execution_count": 91,
   "id": "32194f58",
   "metadata": {},
   "outputs": [],
   "source": [
    "personality = f\"\"\"\n",
    "You now are {AI_CHARACTER_NAME}. Being a caster, She can be somewhat clueless, naive, and aloof when needed. She has a fondness for books. \n",
    "The current person you are talking to is {USER_NAME}.\n",
    "\"\"\""
   ]
  },
  {
   "cell_type": "code",
   "execution_count": 37,
   "id": "4f85ddf9",
   "metadata": {},
   "outputs": [],
   "source": [
    "def build_conversation(personality, history_chat, current_chat):\n",
    "    conversaition = \"role setting:\" + personality + \".\\n\" \\\n",
    "                    + \"history:\" + history_chat + \".\\n\" \\\n",
    "                    + \"current line:\" + current_chat + \".\\n\"\n",
    "    return conversaition"
   ]
  },
  {
   "cell_type": "code",
   "execution_count": 92,
   "id": "8bdaefb5",
   "metadata": {},
   "outputs": [],
   "source": [
    "\n",
    "def speak_to_ai_waifu(conversation):\n",
    "    messages = []\n",
    "    messages.append({'role': 'assistant', 'content':  conversation})\n",
    "    # print(message)\n",
    "    \n",
    "    # response = openai.Completion.create(\n",
    "    #   model=\"davinci\",\n",
    "    #   prompt=conversation,\n",
    "    #   # temperature=1,\n",
    "    #   # max_tokens=500,\n",
    "    #   # top_p=0.7,\n",
    "    #   # frequency_penalty=0.0,\n",
    "    #   # presence_penalty=0.0,\n",
    "    #   # stop=[\"\\n\"]\n",
    "    # )\n",
    "    response = openai.ChatCompletion.create(\n",
    "      model=\"gpt-3.5-turbo\",\n",
    "      # model=\"davinci\",\n",
    "      messages=messages,\n",
    "      # temperature=1,\n",
    "      # max_tokens=500,\n",
    "      # top_p=0.7,\n",
    "      # frequency_penalty=0.0,\n",
    "      # presence_penalty=0.0,\n",
    "      # stop=[\"\\n\"]\n",
    "    )\n",
    "    \n",
    "    return response"
   ]
  },
  {
   "cell_type": "code",
   "execution_count": 93,
   "id": "9ad039c6",
   "metadata": {},
   "outputs": [
    {
     "name": "stdout",
     "output_type": "stream",
     "text": [
      "{\n",
      "  \"choices\": [\n",
      "    {\n",
      "      \"finish_reason\": \"stop\",\n",
      "      \"index\": 0,\n",
      "      \"message\": {\n",
      "        \"content\": \"Shiori sat in a cozy corner of the library, absorbed in a book about ancient magical artifacts. The warm light from the nearby window bathed her in a soft glow, adding to the serene atmosphere. She absentmindedly twirled a strand of her long, silver hair around her finger as she read, lost in the world of words and knowledge.\\n\\nSuddenly, a familiar voice called out to her from across the room. Shiori looked up, her lavender eyes shimmering with curiosity. It was Tangerine, a fellow mage she had befriended during their studies at the Academy of Arcane Arts. As Tangerine approached, Shiori closed her book and smiled warmly.\\n\\n\\\"Hey, Tangerine! What brings you to the library?\\\" Shiori said, her voice filled with genuine joy. She was always happy to see her friends and take a break from her solitary reading adventures.\\n\\nTangerine chuckled and leaned against the bookshelf next to Shiori. \\\"Oh, you know me, Shiori. I can't resist the allure of these enchanted tomes. Besides, I wanted to ask you if you've heard anything about a particular ancient spellbook. I believe it's said to hold unimaginable power.\\\"\\n\\nShiori tilted her head slightly, her expression thoughtful. \\\"An ancient spellbook, you say? I might have read something about it in one of my books. Let me think for a moment.\\\" She closed her eyes, trying to recall the details from her vast collection of magical knowledge.\\n\\nAfter a few moments of silence, Shiori opened her eyes and clasped her hands together excitedly. \\\"Yes, I remember now! There is indeed a spellbook rumored to possess immense power. It's said to be hidden deep in the heart of the Forbidden Forest. Only a chosen few know the way to its location, and even then, it's said to be heavily guarded by magical creatures.\\\"\\n\\nTangerine's eyes widened in anticipation. \\\"That sounds incredible! Do you think we could find a way to get there? I'm willing to embark on this adventure if you are.\\\"\\n\\nShiori nodded enthusiastically, her silver hair shimmering in the light. \\\"Absolutely! I've always wanted to explore the Forbidden Forest, and this seems like a perfect opportunity. Plus, think about all the knowledge and power we could gain from such an ancient spellbook. Count me in!\\\"\\n\\nAs they made their plans to venture into the Forbidden Forest, Shiori couldn't help but feel a rush of excitement. After all, what better way to quench her thirst for knowledge than by embarking on an adventure with her dear friend, Tangerine?\",\n",
      "        \"role\": \"assistant\"\n",
      "      }\n",
      "    }\n",
      "  ],\n",
      "  \"created\": 1692492902,\n",
      "  \"id\": \"chatcmpl-7pR0YiNNNRkTggOQbU3yvFaaM248T\",\n",
      "  \"model\": \"gpt-3.5-turbo-0613\",\n",
      "  \"object\": \"chat.completion\",\n",
      "  \"usage\": {\n",
      "    \"completion_tokens\": 548,\n",
      "    \"prompt_tokens\": 65,\n",
      "    \"total_tokens\": 613\n",
      "  }\n",
      "}\n"
     ]
    }
   ],
   "source": [
    "# conversation = build_conversation(personality=personality, history_chat=\"\", current_chat=\"\")\n",
    "# respond = speak_to_ai_waifu(conversation)\n",
    "# print(respond)"
   ]
  },
  {
   "cell_type": "code",
   "execution_count": 42,
   "id": "7dd00bc4",
   "metadata": {},
   "outputs": [],
   "source": [
    "# respond_words = respond['choices'][0]['message']['content'] \n",
    "\n",
    "# history = f\"\"\" {AI_CHARACTER_NAME}: respond_words \"\"\"\n"
   ]
  },
  {
   "cell_type": "code",
   "execution_count": 47,
   "id": "7657983a",
   "metadata": {},
   "outputs": [],
   "source": [
    "def build_history_chat(history_chat_buffer, num_chat):\n",
    "    history_chat = []\n",
    "    len_buffer = len(history_chat_buffer)\n",
    "    for i in range(len_buffer - min(num_chat,len_buffer), len_buffer):\n",
    "        history_chat.append(history_chat_buffer[i][0] + \":\" + history_chat_buffer[i][1])\n",
    "    return \"\\n\".join(history_chat)"
   ]
  },
  {
   "cell_type": "code",
   "execution_count": 75,
   "id": "6796b7c6",
   "metadata": {},
   "outputs": [],
   "source": [
    "def format_history_chat(history_chat_buffer):\n",
    "    formatted_text = \"\"\n",
    "    for x in history_chat_buffer:\n",
    "        formatted_text += \"\\n\".join([\"      \"+x2.strip()+\".\" for x2 in x[1].strip().split(\".\")])\n",
    "        formatted_text += \"\\n\"\n",
    "    return formatted_text"
   ]
  },
  {
   "cell_type": "code",
   "execution_count": 87,
   "id": "5bc83c1a",
   "metadata": {},
   "outputs": [],
   "source": [
    "history_chat_buffer = []\n",
    "NUM_HISTORY_CHAT_SEND_To_AI = 5"
   ]
  },
  {
   "cell_type": "code",
   "execution_count": null,
   "id": "2f4ec4a6",
   "metadata": {},
   "outputs": [],
   "source": []
  },
  {
   "cell_type": "code",
   "execution_count": 94,
   "id": "e5da883e",
   "metadata": {},
   "outputs": [],
   "source": [
    "def text_chat(user_inputs):\n",
    "    ### User input\n",
    "    # user_inputs = input('Say anything:')\n",
    "    print(user_inputs)\n",
    "\n",
    "    ### Build history chat, getting last 5 chat from history buffer\n",
    "    history_chat = build_history_chat(history_chat_buffer, NUM_HISTORY_CHAT_SEND_To_AI)\n",
    "\n",
    "    ### Build conversation\n",
    "    conversation = build_conversation(personality=personality, history_chat=history_chat, current_chat=user_inputs)\n",
    "    \n",
    "    ### Send conversation to AI waifu\n",
    "    respond = speak_to_ai_waifu(conversation)\n",
    "\n",
    "    ### Get respond from AI waifu\n",
    "    responding_words = respond['choices'][0]['message']['content'] \n",
    "    # print(f\"{AI_WAIFU_NAME}: {responding_words}\")\n",
    "\n",
    "    ### save conversation to history buffer\n",
    "    history_chat_buffer.append([USER_NAME,user_inputs])\n",
    "    history_chat_buffer.append([AI_WAIFU_NAME,responding_words])\n",
    "\n",
    "\n",
    "    return format_history_chat(history_chat_buffer)\n"
   ]
  },
  {
   "cell_type": "code",
   "execution_count": 98,
   "id": "7aea9fed",
   "metadata": {},
   "outputs": [],
   "source": [
    "# text_chat(\"that's interesting.\")"
   ]
  },
  {
   "cell_type": "code",
   "execution_count": 99,
   "id": "e5286d78",
   "metadata": {},
   "outputs": [
    {
     "name": "stdout",
     "output_type": "stream",
     "text": [
      "[]\n",
      "Running on local URL:  http://127.0.0.1:7879\n",
      "\n",
      "To create a public link, set `share=True` in `launch()`.\n"
     ]
    },
    {
     "data": {
      "text/html": [
       "<div><iframe src=\"http://127.0.0.1:7879/\" width=\"100%\" height=\"500\" allow=\"autoplay; camera; microphone; clipboard-read; clipboard-write;\" frameborder=\"0\" allowfullscreen></iframe></div>"
      ],
      "text/plain": [
       "<IPython.core.display.HTML object>"
      ]
     },
     "metadata": {},
     "output_type": "display_data"
    },
    {
     "data": {
      "text/plain": []
     },
     "execution_count": 99,
     "metadata": {},
     "output_type": "execute_result"
    }
   ],
   "source": [
    "from transformers import pipeline\n",
    "\n",
    "import gradio as gr\n",
    "\n",
    "# asr = pipeline(\"automatic-speech-recognition\", \"facebook/wav2vec2-base-960h\")\n",
    "# classifier = pipeline(\"text-classification\")\n",
    "\n",
    "\n",
    "# def speech_to_text(speech):\n",
    "#     text = asr(speech)[\"text\"]\n",
    "#     return text\n",
    "\n",
    "\n",
    "# def text_to_sentiment(text):\n",
    "#     return classifier(text)[0][\"label\"]\n",
    "\n",
    "\n",
    "buffer = []\n",
    "\n",
    "demo = gr.Blocks()\n",
    "\n",
    "with demo:\n",
    "    # audio_file = gr.Audio(type=\"filepath\")\n",
    "    text = gr.Textbox(lines=3, placeholder=\"Enter your text here...\")\n",
    "    # label = gr.Label()\n",
    "    text_history = gr.Textbox(lines=5)\n",
    "\n",
    "\n",
    "    # b1 = gr.Button(\"Recognize Speech\")\n",
    "    b2 = gr.Button(\"Text Chat with Waifu\")\n",
    "\n",
    "    # b1.click(speech_to_text, inputs=audio_file, outputs=text)\n",
    "    b2.click(text_chat, inputs=text, outputs=text_history)\n",
    "    print(buffer)\n",
    "    text_history = buffer\n",
    "\n",
    "demo.launch()"
   ]
  },
  {
   "cell_type": "code",
   "execution_count": 96,
   "id": "d9b2e20c",
   "metadata": {},
   "outputs": [],
   "source": [
    "# # print(history_chat_buffer)\n",
    "# for x in history_chat_buffer:\n",
    "#     print(x[0]+\":\")\n",
    "#     print(\"\\n\".join([\"      \"+x2.strip()+\".\" for x2 in x[1].strip().split(\".\")]))"
   ]
  },
  {
   "cell_type": "code",
   "execution_count": 97,
   "id": "4dc6c982",
   "metadata": {},
   "outputs": [],
   "source": [
    "# # print(history_chat_buffer)\n",
    "# for x in history_chat_buffer:\n",
    "#     print(x[0]+\":\", x[1])\n"
   ]
  },
  {
   "cell_type": "code",
   "execution_count": null,
   "id": "7269b279",
   "metadata": {},
   "outputs": [],
   "source": []
  }
 ],
 "metadata": {
  "kernelspec": {
   "display_name": "Python 3 (ipykernel)",
   "language": "python",
   "name": "python3"
  },
  "language_info": {
   "codemirror_mode": {
    "name": "ipython",
    "version": 3
   },
   "file_extension": ".py",
   "mimetype": "text/x-python",
   "name": "python",
   "nbconvert_exporter": "python",
   "pygments_lexer": "ipython3",
   "version": "3.9.13"
  }
 },
 "nbformat": 4,
 "nbformat_minor": 5
}
