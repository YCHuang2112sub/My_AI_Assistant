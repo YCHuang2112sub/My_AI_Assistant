{
 "cells": [
  {
   "cell_type": "code",
   "execution_count": null,
   "metadata": {},
   "outputs": [],
   "source": []
  },
  {
   "cell_type": "code",
   "execution_count": 2,
   "metadata": {},
   "outputs": [],
   "source": [
    "# !pip install pygame"
   ]
  },
  {
   "cell_type": "code",
   "execution_count": null,
   "metadata": {},
   "outputs": [],
   "source": []
  },
  {
   "cell_type": "code",
   "execution_count": null,
   "metadata": {},
   "outputs": [],
   "source": []
  },
  {
   "cell_type": "markdown",
   "metadata": {},
   "source": [
    "# REF:\n",
    "pynput: https://pypi.org/project/pynput/"
   ]
  },
  {
   "cell_type": "markdown",
   "metadata": {},
   "source": [
    "### For space key recording"
   ]
  },
  {
   "cell_type": "code",
   "execution_count": 3,
   "metadata": {},
   "outputs": [],
   "source": [
    "# !pip install threading\n",
    "# !pip install keyboard\n",
    "# !pip install pynput"
   ]
  },
  {
   "cell_type": "code",
   "execution_count": null,
   "metadata": {},
   "outputs": [],
   "source": []
  },
  {
   "cell_type": "code",
   "execution_count": 4,
   "metadata": {},
   "outputs": [],
   "source": [
    "import pynput\n",
    "# pynput.keyboard.Listener.stop()\n",
    " "
   ]
  },
  {
   "cell_type": "code",
   "execution_count": null,
   "metadata": {},
   "outputs": [],
   "source": []
  },
  {
   "cell_type": "code",
   "execution_count": 2,
   "metadata": {},
   "outputs": [],
   "source": [
    "import tkinter as tk\n",
    "import threading\n",
    "# from pynput import keyboard\n",
    "import pynput\n",
    "import sounddevice as sd\n",
    "import numpy as np\n",
    "from queue import Queue\n",
    "import keyboard as kb\n",
    "\n"
   ]
  },
  {
   "cell_type": "code",
   "execution_count": 3,
   "metadata": {},
   "outputs": [],
   "source": [
    "# Global variables\n",
    "recording = False\n",
    "audio_data = []\n",
    "info_label = None  # Declare the label globally\n",
    "gui_closing = False  # Flag to indicate GUI closing\n",
    "# info_label = tk.Label(root, text=\"Press 'Space' to start recording\", padx=10, pady=10)\n",
    "# info_label.pack()\n",
    "info_queue = Queue()  # Queue for communication between threads\n",
    "space_event_queue = Queue()  # Queue to store space key events\n",
    "\n",
    "recording_lock = threading.Lock()\n",
    "\n",
    "# Event to signal the record thread to stop\n",
    "stop_record_event = threading.Event()\n",
    "\n",
    "\n",
    "\n"
   ]
  },
  {
   "cell_type": "code",
   "execution_count": 4,
   "metadata": {},
   "outputs": [],
   "source": [
    "audio_input_queue = Queue()"
   ]
  },
  {
   "cell_type": "code",
   "execution_count": 9,
   "metadata": {},
   "outputs": [
    {
     "name": "stdout",
     "output_type": "stream",
     "text": [
      "func record_audio\n"
     ]
    }
   ],
   "source": [
    "stop_record_event.clear()\n",
    "audio_data = []\n",
    "\n",
    "\n",
    "def record_audio(audio_data, audio_input_queue):\n",
    "    # global audio_data\n",
    "    print(\"func record_audio\")\n",
    "\n",
    "    #init \n",
    "    with audio_input_queue.mutex:\n",
    "        audio_input_queue.queue.clear()\n",
    "\n",
    "\n",
    "    while not stop_record_event.is_set():\n",
    "        event = space_event_queue.get()\n",
    "        print(\"record_audio event: \", event)\n",
    "        if event == \"pressed\":\n",
    "            print(\"Recorder Recording...\")\n",
    "            try:\n",
    "                event = space_event_queue.get(block=False)\n",
    "            except:\n",
    "                event = \"pressed\"\n",
    "            while event != \"released\":\n",
    "                data = sd.rec(44100, samplerate=44100, channels=1, dtype=np.int16)\n",
    "                sd.wait()\n",
    "                audio_input_queue.put(data)\n",
    "                audio_data.extend(data)\n",
    "                try:\n",
    "                    event = space_event_queue.get(block=False)\n",
    "                except:\n",
    "                    event = \"pressed\"\n",
    "            print(\"Recorder end Recording...\")\n",
    "    print(\"end func record_audio\")\n",
    "    print(\"audio_data: \", len(audio_data))\n",
    "\n",
    "\n",
    "\n",
    "\n",
    "def on_key_press(key):\n",
    "    global recording, info_label\n",
    "    try:\n",
    "        if key == pynput.keyboard.Key.space:\n",
    "            with recording_lock:\n",
    "                if not recording:\n",
    "                    recording = True\n",
    "                    # record_audio()\n",
    "                    space_event_queue.put(\"pressed\")\n",
    "                    update_label(info_label, \"Recording...\")  # Update label in main GUI thread\n",
    "                    # info_queue.put(\"Recording...\")\n",
    "                    print(\"Recording...\")\n",
    "        elif key == pynput.keyboard.Key.esc and gui_closing:\n",
    "            return False  # Stop the listener when 'esc' is detected and GUI is closing\n",
    "    except Exception as e:\n",
    "        print(f\"Error during key press: {e}\")\n",
    "\n",
    "def on_key_release(key):\n",
    "    global recording, info_label\n",
    "    try:\n",
    "        if key == pynput.keyboard.Key.space:\n",
    "            with recording_lock:\n",
    "                if recording == True:\n",
    "                    recording = False\n",
    "                    # stop_recording()\n",
    "                    space_event_queue.put(\"released\")\n",
    "                    update_label(info_label, \"Press 'Space' to start recording\")  # Update label in main GUI thread\n",
    "                    # info_queue.put(\"Press 'Space' to start recording\")\n",
    "                    print(\"Press 'Space' to start recording\")\n",
    "    except Exception as e:\n",
    "        print(f\"Error during key release: {e}\")\n",
    "\n",
    "\n",
    "def update_label(label, text):\n",
    "    label.config(text=text)\n",
    "\n",
    "# Create listener\n",
    "listener = pynput.keyboard.Listener(on_press=on_key_press, on_release=on_key_release)\n",
    "\n",
    "# Keyboard listener thread\n",
    "# def keyboard_listener_thread():\n",
    "listener.start()\n",
    "    # listener.join()  # Wait for the listener to finish\n",
    "\n",
    "\n",
    "record_thread = threading.Thread(target=record_audio, args=(audio_data, audio_input_queue))\n",
    "record_thread.start()\n",
    "\n",
    "# # # GUI thread\n",
    "# def gui_thread():\n",
    "def on_closing():\n",
    "    global gui_closing\n",
    "    # recording_lock.acquire()\n",
    "    # if recording:\n",
    "    #     recording_lock.release()\n",
    "    #     stop_recording()\n",
    "    # else:\n",
    "    #     recording_lock.release()\n",
    "    gui_closing = True\n",
    "    stop_record_event.set()  # Signal the record thread to stop\n",
    "    pynput.keyboard.Controller().press(pynput.keyboard.Key.esc)  # Trigger 'esc' input\n",
    "    # keyboard_thread.join()  # Wait for keyboard_thread to finish\n",
    "    root.destroy()\n",
    "\n",
    "root = tk.Tk()\n",
    "root.title(\"Audio Recorder\")\n",
    "\n",
    "import atexit\n",
    "# Register the cleanup function to be called on exit\n",
    "atexit.register(on_closing)\n",
    "\n",
    "\n",
    "global info_label\n",
    "info_label = tk.Label(root, text=\"Press 'Space' to start recording\", padx=10, pady=10)\n",
    "info_label.pack()\n",
    "\n",
    "root.protocol(\"WM_DELETE_WINDOW\", on_closing)\n",
    "root.mainloop()\n",
    "\n",
    "\n",
    "\n",
    "# # Start GUI and keyboard listener threads\n",
    "# gui_thread = threading.Thread(target=gui_thread)\n",
    "# # keyboard_thread = threading.Thread(target=keyboard_listener_thread)\n",
    "\n",
    "# gui_thread.start()\n",
    "# # keyboard_thread.start()\n",
    "\n",
    "\n",
    "# # Update the label from the queue\n",
    "# while True:\n",
    "#     message = info_queue.get()\n",
    "#     info_label.config(text=message)\n"
   ]
  },
  {
   "cell_type": "code",
   "execution_count": 6,
   "metadata": {},
   "outputs": [],
   "source": [
    "# print(space_event_queue.get())"
   ]
  },
  {
   "cell_type": "code",
   "execution_count": 7,
   "metadata": {},
   "outputs": [
    {
     "name": "stdout",
     "output_type": "stream",
     "text": [
      "0\n"
     ]
    }
   ],
   "source": [
    "print(len(audio_data))\n",
    "# print(len(audio_input_queue.get()))\n",
    "while not audio_input_queue.empty():\n",
    "    try:\n",
    "        audio = audio_input_queue.get(block=False)\n",
    "        print(len(audio))\n",
    "    except:\n",
    "        continue\n",
    "    audio_input_queue.task_done()"
   ]
  },
  {
   "cell_type": "code",
   "execution_count": null,
   "metadata": {},
   "outputs": [],
   "source": []
  },
  {
   "cell_type": "code",
   "execution_count": 1,
   "metadata": {},
   "outputs": [],
   "source": [
    "import torchaudio\n",
    "from io import BytesIO\n",
    "import sounddevice as sd"
   ]
  },
  {
   "cell_type": "code",
   "execution_count": 28,
   "metadata": {},
   "outputs": [],
   "source": [
    "\n",
    "\n",
    "\n",
    "# # Play the audio using sounddevice\n",
    "# def play_audio(wav_file):\n",
    "#     # load wave file or file-like object\n",
    "#     data, sr = torchaudio.load(wav_file)\n",
    "#     # play audio\n",
    "#     sd.play(data[0].numpy(), sr)\n",
    "#     # wait until finish playing\n",
    "#     sd.wait()"
   ]
  },
  {
   "cell_type": "code",
   "execution_count": 11,
   "metadata": {},
   "outputs": [
    {
     "name": "stdout",
     "output_type": "stream",
     "text": [
      "13185\n",
      "[ 0  0 -1 ... -1 -1  2]\n"
     ]
    }
   ],
   "source": [
    "print(np.max(audio_data))\n",
    "result = np.concatenate(audio_data)\n",
    "print(result)\n",
    "# print(np.max(result))\n",
    "# result2 = np.concatenate(audio)\n",
    "# print(result2)\n",
    "\n",
    "sd.play(result, samplerate=44100)\n",
    "\n",
    "# # change result bytes stream to file-like object\n",
    "# wav_file_bytesIO = BytesIO(result)\n",
    "\n",
    "# 1. directly play the audio\n",
    "# play_audio(result)"
   ]
  },
  {
   "cell_type": "code",
   "execution_count": 21,
   "metadata": {},
   "outputs": [],
   "source": []
  },
  {
   "cell_type": "code",
   "execution_count": 26,
   "metadata": {},
   "outputs": [],
   "source": []
  },
  {
   "cell_type": "code",
   "execution_count": 27,
   "metadata": {},
   "outputs": [],
   "source": []
  },
  {
   "cell_type": "code",
   "execution_count": 2,
   "metadata": {},
   "outputs": [],
   "source": []
  },
  {
   "cell_type": "code",
   "execution_count": null,
   "metadata": {},
   "outputs": [],
   "source": []
  }
 ],
 "metadata": {
  "kernelspec": {
   "display_name": "py39",
   "language": "python",
   "name": "python3"
  },
  "language_info": {
   "codemirror_mode": {
    "name": "ipython",
    "version": 3
   },
   "file_extension": ".py",
   "mimetype": "text/x-python",
   "name": "python",
   "nbconvert_exporter": "python",
   "pygments_lexer": "ipython3",
   "version": "3.9.13"
  },
  "orig_nbformat": 4
 },
 "nbformat": 4,
 "nbformat_minor": 2
}
